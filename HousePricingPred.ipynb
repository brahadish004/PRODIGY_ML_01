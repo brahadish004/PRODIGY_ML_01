{
  "nbformat": 4,
  "nbformat_minor": 0,
  "metadata": {
    "colab": {
      "provenance": []
    },
    "kernelspec": {
      "name": "python3",
      "display_name": "Python 3"
    },
    "language_info": {
      "name": "python"
    }
  },
  "cells": [
    {
      "cell_type": "code",
      "source": [
        "import pandas as pd\n",
        "from sklearn.model_selection import train_test_split\n",
        "from sklearn.linear_model import LinearRegression\n",
        "from sklearn.metrics import mean_absolute_error, mean_squared_error, r2_score, accuracy_score\n",
        "from sklearn.model_selection import cross_val_score"
      ],
      "metadata": {
        "id": "m1M2k476J-f5"
      },
      "execution_count": 78,
      "outputs": []
    },
    {
      "cell_type": "code",
      "execution_count": 88,
      "metadata": {
        "id": "hOcwoXeKImYe"
      },
      "outputs": [],
      "source": [
        "train_data = pd.read_csv('/content/train.csv')\n",
        "test_data = pd.read_csv('/content/test.csv')"
      ]
    },
    {
      "cell_type": "code",
      "source": [
        "print(train_data.info())\n",
        "print(train_data.describe())"
      ],
      "metadata": {
        "colab": {
          "base_uri": "https://localhost:8080/"
        },
        "collapsed": true,
        "id": "GPpmxahNJwy1",
        "outputId": "787696cf-59fa-404c-cf4f-fa950f0fbe85"
      },
      "execution_count": 27,
      "outputs": [
        {
          "output_type": "stream",
          "name": "stdout",
          "text": [
            "<class 'pandas.core.frame.DataFrame'>\n",
            "RangeIndex: 1460 entries, 0 to 1459\n",
            "Data columns (total 24 columns):\n",
            " #   Column         Non-Null Count  Dtype  \n",
            "---  ------         --------------  -----  \n",
            " 0   Id             1460 non-null   int64  \n",
            " 1   LotArea        1460 non-null   int64  \n",
            " 2   MasVnrArea     1452 non-null   float64\n",
            " 3   BsmtFinSF1     1460 non-null   int64  \n",
            " 4   BsmtFinSF2     1460 non-null   int64  \n",
            " 5   BsmtUnfSF      1460 non-null   int64  \n",
            " 6   TotalBsmtSF    1460 non-null   int64  \n",
            " 7   1stFlrSF       1460 non-null   int64  \n",
            " 8   2ndFlrSF       1460 non-null   int64  \n",
            " 9   LowQualFinSF   1460 non-null   int64  \n",
            " 10  GrLivArea      1460 non-null   int64  \n",
            " 11  BsmtFullBath   1460 non-null   int64  \n",
            " 12  BsmtHalfBath   1460 non-null   int64  \n",
            " 13  FullBath       1460 non-null   int64  \n",
            " 14  HalfBath       1460 non-null   int64  \n",
            " 15  BedroomAbvGr   1460 non-null   int64  \n",
            " 16  GarageArea     1460 non-null   int64  \n",
            " 17  WoodDeckSF     1460 non-null   int64  \n",
            " 18  OpenPorchSF    1460 non-null   int64  \n",
            " 19  EnclosedPorch  1460 non-null   int64  \n",
            " 20  3SsnPorch      1460 non-null   int64  \n",
            " 21  ScreenPorch    1460 non-null   int64  \n",
            " 22  PoolArea       1460 non-null   int64  \n",
            " 23  SalePrice      1460 non-null   int64  \n",
            "dtypes: float64(1), int64(23)\n",
            "memory usage: 273.9 KB\n",
            "None\n",
            "                Id        LotArea   MasVnrArea   BsmtFinSF1   BsmtFinSF2  \\\n",
            "count  1460.000000    1460.000000  1452.000000  1460.000000  1460.000000   \n",
            "mean    730.500000   10516.828082   103.685262   443.639726    46.549315   \n",
            "std     421.610009    9981.264932   181.066207   456.098091   161.319273   \n",
            "min       1.000000    1300.000000     0.000000     0.000000     0.000000   \n",
            "25%     365.750000    7553.500000     0.000000     0.000000     0.000000   \n",
            "50%     730.500000    9478.500000     0.000000   383.500000     0.000000   \n",
            "75%    1095.250000   11601.500000   166.000000   712.250000     0.000000   \n",
            "max    1460.000000  215245.000000  1600.000000  5644.000000  1474.000000   \n",
            "\n",
            "         BsmtUnfSF  TotalBsmtSF     1stFlrSF     2ndFlrSF  LowQualFinSF  ...  \\\n",
            "count  1460.000000  1460.000000  1460.000000  1460.000000   1460.000000  ...   \n",
            "mean    567.240411  1057.429452  1162.626712   346.992466      5.844521  ...   \n",
            "std     441.866955   438.705324   386.587738   436.528436     48.623081  ...   \n",
            "min       0.000000     0.000000   334.000000     0.000000      0.000000  ...   \n",
            "25%     223.000000   795.750000   882.000000     0.000000      0.000000  ...   \n",
            "50%     477.500000   991.500000  1087.000000     0.000000      0.000000  ...   \n",
            "75%     808.000000  1298.250000  1391.250000   728.000000      0.000000  ...   \n",
            "max    2336.000000  6110.000000  4692.000000  2065.000000    572.000000  ...   \n",
            "\n",
            "          HalfBath  BedroomAbvGr   GarageArea   WoodDeckSF  OpenPorchSF  \\\n",
            "count  1460.000000   1460.000000  1460.000000  1460.000000  1460.000000   \n",
            "mean      0.382877      2.866438   472.980137    94.244521    46.660274   \n",
            "std       0.502885      0.815778   213.804841   125.338794    66.256028   \n",
            "min       0.000000      0.000000     0.000000     0.000000     0.000000   \n",
            "25%       0.000000      2.000000   334.500000     0.000000     0.000000   \n",
            "50%       0.000000      3.000000   480.000000     0.000000    25.000000   \n",
            "75%       1.000000      3.000000   576.000000   168.000000    68.000000   \n",
            "max       2.000000      8.000000  1418.000000   857.000000   547.000000   \n",
            "\n",
            "       EnclosedPorch    3SsnPorch  ScreenPorch     PoolArea      SalePrice  \n",
            "count    1460.000000  1460.000000  1460.000000  1460.000000    1460.000000  \n",
            "mean       21.954110     3.409589    15.060959     2.758904  180921.195890  \n",
            "std        61.119149    29.317331    55.757415    40.177307   79442.502883  \n",
            "min         0.000000     0.000000     0.000000     0.000000   34900.000000  \n",
            "25%         0.000000     0.000000     0.000000     0.000000  129975.000000  \n",
            "50%         0.000000     0.000000     0.000000     0.000000  163000.000000  \n",
            "75%         0.000000     0.000000     0.000000     0.000000  214000.000000  \n",
            "max       552.000000   508.000000   480.000000   738.000000  755000.000000  \n",
            "\n",
            "[8 rows x 24 columns]\n"
          ]
        }
      ]
    },
    {
      "cell_type": "code",
      "source": [
        "train_data.fillna(0, inplace=True)\n",
        "test_data.fillna(0, inplace=True)"
      ],
      "metadata": {
        "id": "llYSmiOXWoiH"
      },
      "execution_count": 89,
      "outputs": []
    },
    {
      "cell_type": "code",
      "source": [
        "X_train =  train_data.drop('SalePrice', axis=1)\n",
        "y_train =  train_data['SalePrice']"
      ],
      "metadata": {
        "id": "wXUj5_LtJzRe"
      },
      "execution_count": 29,
      "outputs": []
    },
    {
      "cell_type": "code",
      "source": [
        "X_train, X_val, y_train, y_val = train_test_split(X_train, y_train, test_size=0.20,random_state=42)"
      ],
      "metadata": {
        "id": "oZBdHLyrJ5Z6"
      },
      "execution_count": 83,
      "outputs": []
    },
    {
      "cell_type": "code",
      "source": [
        "model = LinearRegression()\n",
        "model.fit(X_train, y_train)"
      ],
      "metadata": {
        "colab": {
          "base_uri": "https://localhost:8080/",
          "height": 74
        },
        "id": "1PG9hB20J7v5",
        "outputId": "4099acbf-d7ad-4bbf-bbb7-5a21785def1e"
      },
      "execution_count": 84,
      "outputs": [
        {
          "output_type": "execute_result",
          "data": {
            "text/plain": [
              "LinearRegression()"
            ],
            "text/html": [
              "<style>#sk-container-id-23 {color: black;background-color: white;}#sk-container-id-23 pre{padding: 0;}#sk-container-id-23 div.sk-toggleable {background-color: white;}#sk-container-id-23 label.sk-toggleable__label {cursor: pointer;display: block;width: 100%;margin-bottom: 0;padding: 0.3em;box-sizing: border-box;text-align: center;}#sk-container-id-23 label.sk-toggleable__label-arrow:before {content: \"▸\";float: left;margin-right: 0.25em;color: #696969;}#sk-container-id-23 label.sk-toggleable__label-arrow:hover:before {color: black;}#sk-container-id-23 div.sk-estimator:hover label.sk-toggleable__label-arrow:before {color: black;}#sk-container-id-23 div.sk-toggleable__content {max-height: 0;max-width: 0;overflow: hidden;text-align: left;background-color: #f0f8ff;}#sk-container-id-23 div.sk-toggleable__content pre {margin: 0.2em;color: black;border-radius: 0.25em;background-color: #f0f8ff;}#sk-container-id-23 input.sk-toggleable__control:checked~div.sk-toggleable__content {max-height: 200px;max-width: 100%;overflow: auto;}#sk-container-id-23 input.sk-toggleable__control:checked~label.sk-toggleable__label-arrow:before {content: \"▾\";}#sk-container-id-23 div.sk-estimator input.sk-toggleable__control:checked~label.sk-toggleable__label {background-color: #d4ebff;}#sk-container-id-23 div.sk-label input.sk-toggleable__control:checked~label.sk-toggleable__label {background-color: #d4ebff;}#sk-container-id-23 input.sk-hidden--visually {border: 0;clip: rect(1px 1px 1px 1px);clip: rect(1px, 1px, 1px, 1px);height: 1px;margin: -1px;overflow: hidden;padding: 0;position: absolute;width: 1px;}#sk-container-id-23 div.sk-estimator {font-family: monospace;background-color: #f0f8ff;border: 1px dotted black;border-radius: 0.25em;box-sizing: border-box;margin-bottom: 0.5em;}#sk-container-id-23 div.sk-estimator:hover {background-color: #d4ebff;}#sk-container-id-23 div.sk-parallel-item::after {content: \"\";width: 100%;border-bottom: 1px solid gray;flex-grow: 1;}#sk-container-id-23 div.sk-label:hover label.sk-toggleable__label {background-color: #d4ebff;}#sk-container-id-23 div.sk-serial::before {content: \"\";position: absolute;border-left: 1px solid gray;box-sizing: border-box;top: 0;bottom: 0;left: 50%;z-index: 0;}#sk-container-id-23 div.sk-serial {display: flex;flex-direction: column;align-items: center;background-color: white;padding-right: 0.2em;padding-left: 0.2em;position: relative;}#sk-container-id-23 div.sk-item {position: relative;z-index: 1;}#sk-container-id-23 div.sk-parallel {display: flex;align-items: stretch;justify-content: center;background-color: white;position: relative;}#sk-container-id-23 div.sk-item::before, #sk-container-id-23 div.sk-parallel-item::before {content: \"\";position: absolute;border-left: 1px solid gray;box-sizing: border-box;top: 0;bottom: 0;left: 50%;z-index: -1;}#sk-container-id-23 div.sk-parallel-item {display: flex;flex-direction: column;z-index: 1;position: relative;background-color: white;}#sk-container-id-23 div.sk-parallel-item:first-child::after {align-self: flex-end;width: 50%;}#sk-container-id-23 div.sk-parallel-item:last-child::after {align-self: flex-start;width: 50%;}#sk-container-id-23 div.sk-parallel-item:only-child::after {width: 0;}#sk-container-id-23 div.sk-dashed-wrapped {border: 1px dashed gray;margin: 0 0.4em 0.5em 0.4em;box-sizing: border-box;padding-bottom: 0.4em;background-color: white;}#sk-container-id-23 div.sk-label label {font-family: monospace;font-weight: bold;display: inline-block;line-height: 1.2em;}#sk-container-id-23 div.sk-label-container {text-align: center;}#sk-container-id-23 div.sk-container {/* jupyter's `normalize.less` sets `[hidden] { display: none; }` but bootstrap.min.css set `[hidden] { display: none !important; }` so we also need the `!important` here to be able to override the default hidden behavior on the sphinx rendered scikit-learn.org. See: https://github.com/scikit-learn/scikit-learn/issues/21755 */display: inline-block !important;position: relative;}#sk-container-id-23 div.sk-text-repr-fallback {display: none;}</style><div id=\"sk-container-id-23\" class=\"sk-top-container\"><div class=\"sk-text-repr-fallback\"><pre>LinearRegression()</pre><b>In a Jupyter environment, please rerun this cell to show the HTML representation or trust the notebook. <br />On GitHub, the HTML representation is unable to render, please try loading this page with nbviewer.org.</b></div><div class=\"sk-container\" hidden><div class=\"sk-item\"><div class=\"sk-estimator sk-toggleable\"><input class=\"sk-toggleable__control sk-hidden--visually\" id=\"sk-estimator-id-37\" type=\"checkbox\" checked><label for=\"sk-estimator-id-37\" class=\"sk-toggleable__label sk-toggleable__label-arrow\">LinearRegression</label><div class=\"sk-toggleable__content\"><pre>LinearRegression()</pre></div></div></div></div></div>"
            ]
          },
          "metadata": {},
          "execution_count": 84
        }
      ]
    },
    {
      "cell_type": "code",
      "source": [
        "y_pred = model.predict(X_val)\n",
        "\n",
        "mae = mean_absolute_error(y_val, y_pred)\n",
        "mse = mean_squared_error(y_val, y_pred)\n",
        "r2 = r2_score(y_val, y_pred)\n",
        "\n",
        "print(\"Mean Absolute Error:\", mae)\n",
        "print(\"Mean Squared Error:\", mse)\n",
        "print(\"R-squared:\", r2)"
      ],
      "metadata": {
        "colab": {
          "base_uri": "https://localhost:8080/"
        },
        "id": "vo_rY403UDJq",
        "outputId": "abbf9a68-b04b-40b7-c2fd-6bd9beb2cf69"
      },
      "execution_count": 86,
      "outputs": [
        {
          "output_type": "stream",
          "name": "stdout",
          "text": [
            "Mean Absolute Error: 33746.18333170435\n",
            "Mean Squared Error: 1974711563.2649634\n",
            "R-squared: 0.8120918980316463\n"
          ]
        }
      ]
    },
    {
      "cell_type": "code",
      "source": [
        "X_test = test_data\n",
        "test_predictions = model.predict(X_test)"
      ],
      "metadata": {
        "id": "85AEoKvTUDMk"
      },
      "execution_count": 90,
      "outputs": []
    },
    {
      "cell_type": "code",
      "source": [
        "submission = pd.DataFrame({'Id': test_data['Id'], 'Predicted_Salesprice': test_predictions})\n",
        "submission.to_csv('PredictedPrice.csv', index=False)"
      ],
      "metadata": {
        "id": "rGAZcROgjSl6"
      },
      "execution_count": 92,
      "outputs": []
    }
  ]
}